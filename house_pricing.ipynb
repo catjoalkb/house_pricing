{
 "cells": [
  {
   "cell_type": "code",
   "execution_count": null,
   "metadata": {
    "collapsed": true
   },
   "outputs": [],
   "source": [
    "import requests\n",
    "from lxml import html\n",
    "from copy import deepcopy\n",
    "import re\n",
    "import numpy as np\n",
    "import pandas as pd\n",
    "from pymongo import MongoClient\n",
    "import datetime\n",
    "from pprint import pprint\n",
    "\n",
    "## TODO:\n",
    "\n",
    "## 2. Export MongoDB database\n",
    "## 3. Incremental write data in\n",
    "## 4. Scrape all site data"
   ]
  },
  {
   "cell_type": "code",
   "execution_count": null,
   "metadata": {
    "collapsed": true
   },
   "outputs": [],
   "source": [
    "## Start a mongodb client\n",
    "\n",
    "client = MongoClient()\n",
    "client.drop_database('house') # drop everything if exists\n",
    "db = client.house\n",
    "collection = db.house_pricing"
   ]
  },
  {
   "cell_type": "code",
   "execution_count": null,
   "metadata": {
    "collapsed": true
   },
   "outputs": [],
   "source": [
    "def check_null(x):\n",
    "    if len(x) == 0:\n",
    "        return [\"\"]\n",
    "    else:\n",
    "        return x"
   ]
  },
  {
   "cell_type": "code",
   "execution_count": null,
   "metadata": {
    "collapsed": true
   },
   "outputs": [],
   "source": [
    "def trim_to_digit(x):\n",
    "    # input: a list\n",
    "    temp = []\n",
    "    for t in x:\n",
    "        temp.append(\"\".join(c for c in t if c.isdigit()))\n",
    "    return temp"
   ]
  },
  {
   "cell_type": "code",
   "execution_count": null,
   "metadata": {
    "collapsed": true
   },
   "outputs": [],
   "source": [
    "base_url = 'http://sh.lianjia.com/ershoufang/rs'\n",
    "iters = [\n",
    "    # 汇师小学\n",
    "    '东方曼哈顿',\n",
    "    '泰德苑',\n",
    "    '青之杰花园',\n",
    "    '文定天下苑',\n",
    "    '元福大厦',\n",
    "    '明华苑',\n",
    "    '实业公寓',\n",
    "    '宏汇大厦',\n",
    "    '裕德大夏',\n",
    "    '中漕小区',\n",
    "    '徐虹路112弄',\n",
    "    '裕德路66弄',\n",
    "    '中原新村',\n",
    "    '气象局小区',\n",
    "    '文定路87号',\n",
    "    \n",
    "    # 高安路一小\n",
    "    '集雅公寓',\n",
    "    '景福苑',\n",
    "    '首长公寓',\n",
    "    '欧江大厦',\n",
    "    '吴兴公寓',\n",
    "    '吴兴大楼',\n",
    "    '天平小区',\n",
    "    '衡山路58弄',\n",
    "    '吴兴路21弄',\n",
    "    '华绮公寓', \n",
    "    '公安大楼徐汇',\n",
    "    '高安路9弄',\n",
    "    '衡山路696弄',\n",
    "    '华龙公寓徐汇',\n",
    "    '久安小区',\n",
    "    '百安小区',\n",
    "    \n",
    "    # 向阳小学\n",
    "    '嘉御庭',\n",
    "    '梵高馆',\n",
    "    '嘉善公寓',\n",
    "    '年平花苑',\n",
    "    '梧桐花园',\n",
    "    '金环大厦',\n",
    "    '阳光四季公寓',\n",
    "    '裕华大厦',\n",
    "    '鼎新大楼公寓',\n",
    "    '锦岩小区',\n",
    "    '世家小区',\n",
    "    '建国西路211弄',\n",
    "    '建西小区', \n",
    "    '襄阳南路388弄',\n",
    "    '襄阳南路452弄',\n",
    "    '建国西路233弄',\n",
    "    \n",
    "    # 建襄小学\n",
    "    '芝大厦',\n",
    "    '高欣公寓',\n",
    "    '岳阳路79弄',\n",
    "    '伊泰利大厦',\n",
    "    '永嘉路485弄',\n",
    "    '联业大夏',\n",
    "    '岳阳路77弄',\n",
    "    '太原路76号',\n",
    "    '岳阳大楼',\n",
    "    '岳阳路200弄',\n",
    "    '永嘉大楼',\n",
    "    '永康路141弄'\n",
    "]\n",
    "\n",
    "\n",
    "\n",
    "total_prices = []\n",
    "idxs = []\n",
    "prices_per_unit = []\n",
    "xiaoqus = []\n"
   ]
  },
  {
   "cell_type": "code",
   "execution_count": null,
   "metadata": {
    "collapsed": true
   },
   "outputs": [],
   "source": [
    "def single_parse(tree, xiaoqu, idxs, xiaoqus, total_prices, prices_per_unit):\n",
    "    '''\n",
    "    Return groups of house data, including: id, xiaoqu, total_price and price_per_unit\n",
    "    '''\n",
    "\n",
    "    items = tree.xpath(\"//div[@class='info']\")\n",
    "    data = []\n",
    "    for i in range(len(items)):\n",
    "        leaf = deepcopy(items[i])\n",
    "        idx = str(leaf.xpath(\"//div[@class='prop-title']/a/@key\")[0])\n",
    "        total_price = int(leaf.xpath(\"//span[@class='total-price strong-num']/text()\")[0])\n",
    "        price_per_unit = leaf.xpath(\"//span[@class='info-col price-item minor']/text()\")\n",
    "        price_per_unit = int(trim_to_digit(price_per_unit)[0])\n",
    "        \n",
    "        data.append((idx, xiaoqu, total_price, price_per_unit))\n",
    "\n",
    "    return data\n",
    "    \n",
    "    \n"
   ]
  },
  {
   "cell_type": "code",
   "execution_count": null,
   "metadata": {
    "collapsed": false
   },
   "outputs": [],
   "source": [
    "for i in iters:\n",
    "    url = base_url + i\n",
    "    r = requests.get(url)\n",
    "    tree = html.fromstring(r.text)\n",
    "    data = single_parse(tree, i, idxs, xiaoqus, total_prices, prices_per_unit)\n",
    "    \n",
    "    for (idx, xiaoqu, total_price, price_per_unit) in data:\n",
    "        house = {\n",
    "            \"idx\": idx,\n",
    "            \"xiaoqu\": xiaoqu,\n",
    "            \"total_price\": total_price,\n",
    "            \"prices_per_unit\": price_per_unit,\n",
    "            \"added_time\": datetime.datetime.utcnow()\n",
    "        }\n",
    "\n",
    "\n",
    "        house_id = collection.insert_one(house).inserted_id    \n",
    "    "
   ]
  },
  {
   "cell_type": "code",
   "execution_count": null,
   "metadata": {
    "collapsed": false
   },
   "outputs": [],
   "source": [
    "for doc in collection.find({'xiaoqu': '东方曼哈顿'}):\n",
    "    pprint(doc)"
   ]
  },
  {
   "cell_type": "code",
   "execution_count": null,
   "metadata": {
    "collapsed": true
   },
   "outputs": [],
   "source": []
  }
 ],
 "metadata": {
  "anaconda-cloud": {},
  "kernelspec": {
   "display_name": "Python [conda env:py3]",
   "language": "python",
   "name": "conda-env-py3-py"
  },
  "language_info": {
   "codemirror_mode": {
    "name": "ipython",
    "version": 3
   },
   "file_extension": ".py",
   "mimetype": "text/x-python",
   "name": "python",
   "nbconvert_exporter": "python",
   "pygments_lexer": "ipython3",
   "version": "3.6.1"
  }
 },
 "nbformat": 4,
 "nbformat_minor": 2
}
