{
 "cells": [
  {
   "cell_type": "code",
   "execution_count": 1,
   "metadata": {
    "collapsed": true
   },
   "outputs": [],
   "source": [
    "import requests\n",
    "from lxml import html\n",
    "from copy import deepcopy\n",
    "import re\n",
    "import numpy as np\n",
    "import pandas as pd\n",
    "\n",
    "## TODO:\n",
    "## 1. 下一页\n",
    "## 2. 建造时间\n",
    "## 3. 价格时间 log\n",
    "## 4. 可视化"
   ]
  },
  {
   "cell_type": "code",
   "execution_count": 2,
   "metadata": {
    "collapsed": true
   },
   "outputs": [],
   "source": [
    "def check_null(x):\n",
    "    if len(x) == 0:\n",
    "        return [\"\"]\n",
    "    else:\n",
    "        return x"
   ]
  },
  {
   "cell_type": "code",
   "execution_count": 3,
   "metadata": {
    "collapsed": true
   },
   "outputs": [],
   "source": [
    "def trim_to_digit(x):\n",
    "    # input: a list\n",
    "    temp = []\n",
    "    for t in x:\n",
    "        temp.append(\"\".join(c for c in t if c.isdigit()))\n",
    "    return temp"
   ]
  },
  {
   "cell_type": "code",
   "execution_count": 4,
   "metadata": {
    "collapsed": true
   },
   "outputs": [],
   "source": [
    "base_url = 'http://sh.lianjia.com/ershoufang/rs'\n",
    "iters = [\n",
    "    # 汇师小学\n",
    "    '东方曼哈顿',\n",
    "    '泰德苑',\n",
    "    '青之杰花园',\n",
    "    '文定天下苑',\n",
    "    '元福大厦',\n",
    "    '明华苑',\n",
    "    '实业公寓',\n",
    "    '宏汇大厦',\n",
    "    '裕德大夏',\n",
    "    '中漕小区',\n",
    "    '徐虹路112弄',\n",
    "    '裕德路66弄',\n",
    "    '中原新村',\n",
    "    '气象局小区',\n",
    "    '文定路87号',\n",
    "    \n",
    "    # 高安路一小\n",
    "    '集雅公寓',\n",
    "    '景福苑',\n",
    "    '首长公寓',\n",
    "    '欧江大厦',\n",
    "    '吴兴公寓',\n",
    "    '吴兴大楼',\n",
    "    '天平小区',\n",
    "    '衡山路58弄',\n",
    "    '吴兴路21弄',\n",
    "    '华绮公寓', \n",
    "    '公安大楼徐汇',\n",
    "    '高安路9弄',\n",
    "    '衡山路696弄',\n",
    "    '华龙公寓徐汇',\n",
    "    '久安小区',\n",
    "    '百安小区',\n",
    "    \n",
    "    # 向阳小学\n",
    "    '嘉御庭',\n",
    "    '梵高馆',\n",
    "    '嘉善公寓',\n",
    "    '年平花苑',\n",
    "    '梧桐花园',\n",
    "    '金环大厦',\n",
    "    '阳光四季公寓',\n",
    "    '裕华大厦',\n",
    "    '鼎新大楼公寓',\n",
    "    '锦岩小区',\n",
    "    '世家小区',\n",
    "    '建国西路211弄',\n",
    "    '建西小区', \n",
    "    '襄阳南路388弄',\n",
    "    '襄阳南路452弄',\n",
    "    '建国西路233弄',\n",
    "    \n",
    "    # 建襄小学\n",
    "    '芝大厦',\n",
    "    '高欣公寓',\n",
    "    '岳阳路79弄',\n",
    "    '伊泰利大厦',\n",
    "    '永嘉路485弄',\n",
    "    '联业大夏',\n",
    "    '岳阳路77弄',\n",
    "    '太原路76号',\n",
    "    '岳阳大楼',\n",
    "    '岳阳路200弄',\n",
    "    '永嘉大楼',\n",
    "    '永康路141弄'\n",
    "]\n",
    "\n",
    "\n",
    "\n",
    "total_prices = []\n",
    "idxs = []\n",
    "prices_per_unit = []\n",
    "xiaoqus = []\n"
   ]
  },
  {
   "cell_type": "code",
   "execution_count": 5,
   "metadata": {
    "collapsed": true
   },
   "outputs": [],
   "source": [
    "def single_parse(tree, xiaoqu, idxs, xiaoqus, total_prices, prices_per_unit):\n",
    "\n",
    "    items = tree.xpath(\"//div[@class='info']\")\n",
    "    for i in range(len(items)):\n",
    "        leaf = deepcopy(items[i])\n",
    "        idx = str(leaf.xpath(\"//div[@class='prop-title']/a/@key\")[0])\n",
    "        total_price = int(leaf.xpath(\"//span[@class='total-price strong-num']/text()\")[0])\n",
    "        price_per_unit = leaf.xpath(\"//span[@class='info-col price-item minor']/text()\")\n",
    "        price_per_unit = int(trim_to_digit(price_per_unit)[0])\n",
    "\n",
    "#         print(idx, total_price, price_per_unit)\n",
    "        total_prices.append(total_price)\n",
    "        idxs.append(idx)\n",
    "        prices_per_unit.append(price_per_unit)\n",
    "        xiaoqus.append(xiaoqu)\n",
    "    return (idxs, xiaoqus, total_prices, prices_per_unit)\n",
    "    \n",
    "    \n"
   ]
  },
  {
   "cell_type": "code",
   "execution_count": 6,
   "metadata": {
    "collapsed": true
   },
   "outputs": [],
   "source": [
    "for i in iters:\n",
    "    url = base_url + i\n",
    "    r = requests.get(url)\n",
    "    tree = html.fromstring(r.text)\n",
    "    (idxs, xiaoqus, total_prices, prices_per_unit) = single_parse(tree, i, idxs, xiaoqus, total_prices, prices_per_unit)"
   ]
  },
  {
   "cell_type": "code",
   "execution_count": 7,
   "metadata": {
    "collapsed": true
   },
   "outputs": [],
   "source": [
    "results = pd.DataFrame({'idxs': idxs, \n",
    "                        'xiaoqus': xiaoqus,\n",
    "                       'total_prices': total_prices,\n",
    "                       'prices_per_unit': prices_per_unit})"
   ]
  },
  {
   "cell_type": "code",
   "execution_count": 8,
   "metadata": {
    "collapsed": false
   },
   "outputs": [
    {
     "data": {
      "text/plain": [
       "idxs               object\n",
       "prices_per_unit     int64\n",
       "total_prices        int64\n",
       "xiaoqus            object\n",
       "dtype: object"
      ]
     },
     "execution_count": 8,
     "metadata": {},
     "output_type": "execute_result"
    }
   ],
   "source": [
    "results.dtypes\n"
   ]
  },
  {
   "cell_type": "code",
   "execution_count": 11,
   "metadata": {
    "collapsed": false
   },
   "outputs": [
    {
     "data": {
      "text/html": [
       "<div>\n",
       "<style>\n",
       "    .dataframe thead tr:only-child th {\n",
       "        text-align: right;\n",
       "    }\n",
       "\n",
       "    .dataframe thead th {\n",
       "        text-align: left;\n",
       "    }\n",
       "\n",
       "    .dataframe tbody tr th {\n",
       "        vertical-align: top;\n",
       "    }\n",
       "</style>\n",
       "<table border=\"1\" class=\"dataframe\">\n",
       "  <thead>\n",
       "    <tr style=\"text-align: right;\">\n",
       "      <th></th>\n",
       "      <th>idxs</th>\n",
       "      <th>prices_per_unit</th>\n",
       "      <th>total_prices</th>\n",
       "      <th>xiaoqus</th>\n",
       "    </tr>\n",
       "  </thead>\n",
       "  <tbody>\n",
       "    <tr>\n",
       "      <th>59</th>\n",
       "      <td>sh4553753</td>\n",
       "      <td>158238</td>\n",
       "      <td>460</td>\n",
       "      <td>裕德路66弄</td>\n",
       "    </tr>\n",
       "    <tr>\n",
       "      <th>60</th>\n",
       "      <td>sh4307884</td>\n",
       "      <td>130987</td>\n",
       "      <td>495</td>\n",
       "      <td>裕德路66弄</td>\n",
       "    </tr>\n",
       "    <tr>\n",
       "      <th>65</th>\n",
       "      <td>sh4737318</td>\n",
       "      <td>125822</td>\n",
       "      <td>440</td>\n",
       "      <td>中原新村</td>\n",
       "    </tr>\n",
       "    <tr>\n",
       "      <th>66</th>\n",
       "      <td>sh4745075</td>\n",
       "      <td>165837</td>\n",
       "      <td>500</td>\n",
       "      <td>中原新村</td>\n",
       "    </tr>\n",
       "    <tr>\n",
       "      <th>67</th>\n",
       "      <td>sh4721513</td>\n",
       "      <td>158050</td>\n",
       "      <td>480</td>\n",
       "      <td>中原新村</td>\n",
       "    </tr>\n",
       "    <tr>\n",
       "      <th>68</th>\n",
       "      <td>sh4343328</td>\n",
       "      <td>164636</td>\n",
       "      <td>500</td>\n",
       "      <td>中原新村</td>\n",
       "    </tr>\n",
       "    <tr>\n",
       "      <th>83</th>\n",
       "      <td>sh4754171</td>\n",
       "      <td>130140</td>\n",
       "      <td>500</td>\n",
       "      <td>天平小区</td>\n",
       "    </tr>\n",
       "    <tr>\n",
       "      <th>87</th>\n",
       "      <td>sh4788356</td>\n",
       "      <td>136986</td>\n",
       "      <td>500</td>\n",
       "      <td>天平小区</td>\n",
       "    </tr>\n",
       "    <tr>\n",
       "      <th>99</th>\n",
       "      <td>sh4677358</td>\n",
       "      <td>118557</td>\n",
       "      <td>490</td>\n",
       "      <td>公安大楼徐汇</td>\n",
       "    </tr>\n",
       "    <tr>\n",
       "      <th>113</th>\n",
       "      <td>sh4605344</td>\n",
       "      <td>162962</td>\n",
       "      <td>440</td>\n",
       "      <td>百安小区</td>\n",
       "    </tr>\n",
       "    <tr>\n",
       "      <th>115</th>\n",
       "      <td>sh4791413</td>\n",
       "      <td>117770</td>\n",
       "      <td>448</td>\n",
       "      <td>百安小区</td>\n",
       "    </tr>\n",
       "  </tbody>\n",
       "</table>\n",
       "</div>"
      ],
      "text/plain": [
       "          idxs  prices_per_unit  total_prices xiaoqus\n",
       "59   sh4553753           158238           460  裕德路66弄\n",
       "60   sh4307884           130987           495  裕德路66弄\n",
       "65   sh4737318           125822           440    中原新村\n",
       "66   sh4745075           165837           500    中原新村\n",
       "67   sh4721513           158050           480    中原新村\n",
       "68   sh4343328           164636           500    中原新村\n",
       "83   sh4754171           130140           500    天平小区\n",
       "87   sh4788356           136986           500    天平小区\n",
       "99   sh4677358           118557           490  公安大楼徐汇\n",
       "113  sh4605344           162962           440    百安小区\n",
       "115  sh4791413           117770           448    百安小区"
      ]
     },
     "execution_count": 11,
     "metadata": {},
     "output_type": "execute_result"
    }
   ],
   "source": [
    "results.loc[(results.total_prices <= 500), :]"
   ]
  },
  {
   "cell_type": "code",
   "execution_count": null,
   "metadata": {
    "collapsed": true
   },
   "outputs": [],
   "source": []
  }
 ],
 "metadata": {
  "anaconda-cloud": {},
  "kernelspec": {
   "display_name": "Python [conda env:py3]",
   "language": "python",
   "name": "conda-env-py3-py"
  },
  "language_info": {
   "codemirror_mode": {
    "name": "ipython",
    "version": 3
   },
   "file_extension": ".py",
   "mimetype": "text/x-python",
   "name": "python",
   "nbconvert_exporter": "python",
   "pygments_lexer": "ipython3",
   "version": "3.6.1"
  }
 },
 "nbformat": 4,
 "nbformat_minor": 2
}
